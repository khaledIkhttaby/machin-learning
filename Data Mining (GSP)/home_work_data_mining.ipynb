{
 "cells": [
  {
   "cell_type": "code",
   "execution_count": null,
   "metadata": {},
   "outputs": [],
   "source": [
    "import pandas as pd \n",
    "import nltk\n",
    "import numpy as np \n",
    "%config Completer.use_jedi = False"
   ]
  },
  {
   "cell_type": "code",
   "execution_count": null,
   "metadata": {},
   "outputs": [],
   "source": [
    "data=pd.read_csv(\"paths_finished.tsv\",sep=\"\\t\",skiprows=16,header=None)\n",
    "paths=data[3]\n",
    "paths"
   ]
  },
  {
   "cell_type": "code",
   "execution_count": null,
   "metadata": {},
   "outputs": [],
   "source": [
    "def delete_arrow(path):\n",
    "    path=path.replace(\"<;\",\"\")\n",
    "    path=path.replace(\">;\",\"\")\n",
    "#     path=path.replace(\";\",\" \")\n",
    "    return path.lower()"
   ]
  },
  {
   "cell_type": "code",
   "execution_count": null,
   "metadata": {},
   "outputs": [],
   "source": [
    "paths=paths.apply(str)\n",
    "paths_cleaned=paths.apply(delete_arrow)\n",
    "paths_cleaned"
   ]
  },
  {
   "cell_type": "code",
   "execution_count": null,
   "metadata": {},
   "outputs": [],
   "source": [
    "all_paths_in_one_string=\";\".join(paths_cleaned)\n",
    "all_paths_in_one_string"
   ]
  },
  {
   "cell_type": "code",
   "execution_count": null,
   "metadata": {},
   "outputs": [],
   "source": [
    "from nltk.util import ngrams\n",
    "len(set(all_paths_in_one_string.split(\";\")))"
   ]
  },
  {
   "cell_type": "code",
   "execution_count": null,
   "metadata": {},
   "outputs": [],
   "source": []
  },
  {
   "cell_type": "code",
   "execution_count": null,
   "metadata": {},
   "outputs": [],
   "source": [
    "all_paths_in_one_string.split(\";\")"
   ]
  },
  {
   "cell_type": "code",
   "execution_count": null,
   "metadata": {},
   "outputs": [],
   "source": [
    "Freq_path=nltk.FreqDist(list(ngrams(all_paths_in_one_string.split(\";\"),1)))\n",
    "print(Freq_path)\n",
    "# Freq_path=dict(Freq_path)\n",
    "Freq_path\n",
    "invers_Freq_path={}\n",
    "for k,v in Freq_path.items():\n",
    "    try:\n",
    "        invers_Freq_path[v].append(k)\n",
    "    except:\n",
    "        invers_Freq_path[v]=[k]\n",
    "invers_Freq_path\n",
    "Freq_path"
   ]
  },
  {
   "cell_type": "code",
   "execution_count": null,
   "metadata": {},
   "outputs": [],
   "source": [
    "sorted(list(Freq_path.values()))"
   ]
  },
  {
   "cell_type": "code",
   "execution_count": null,
   "metadata": {},
   "outputs": [],
   "source": [
    "numbers_of_feq=list(Freq_path.values())\n",
    "print(np.mean(np.array(numbers_of_feq)))\n",
    "nltk.FreqDist(numbers_of_feq)"
   ]
  },
  {
   "cell_type": "code",
   "execution_count": null,
   "metadata": {},
   "outputs": [],
   "source": [
    "min_support=12"
   ]
  },
  {
   "cell_type": "code",
   "execution_count": null,
   "metadata": {},
   "outputs": [],
   "source": [
    "def calculate_min_support(keys,paths):\n",
    "    result={}\n",
    "    i=0\n",
    "    for key in keys:\n",
    "        print(i)\n",
    "        i+=1\n",
    "        for path in paths:\n",
    "            if \";\".join(key) in path:\n",
    "                try:\n",
    "                    result[key]+=1\n",
    "                except:\n",
    "                    result[key]=1\n",
    "    return result\n",
    "calculate_min_support(list(set(ngrams(all_paths_in_one_string.split(\";\"),1))),paths_cleaned)"
   ]
  },
  {
   "cell_type": "code",
   "execution_count": null,
   "metadata": {},
   "outputs": [],
   "source": [
    "list(set(list(ngrams(all_paths_in_one_string.split(\";\"),1))))"
   ]
  },
  {
   "cell_type": "code",
   "execution_count": null,
   "metadata": {},
   "outputs": [],
   "source": [
    "def GSP(k,paths_cleaned,min_support):\n",
    "    def check(i,sub_seq,sequences):\n",
    "        print(i)\n",
    "        for seq in sequences:\n",
    "            if seq in sub_seq:\n",
    "                return True\n",
    "#         print(\"LL\")\n",
    "        return False\n",
    "    pattern={}\n",
    "    for tk in range(1,k):\n",
    "        print(\"ss\")\n",
    "        paths_in_one_string=\";\".join(paths_cleaned)\n",
    "        print(len(set(list(ngrams(paths_in_one_string.split(\";\"),k+1)))),k)\n",
    "        first_item_set1=nltk.FreqDist(list(ngrams(paths_in_one_string.split(\";\"),k)))\n",
    "        first_item_set_acceptaple=[k for k,v in dict(first_item_set1).items() if v> min_support]\n",
    "        print(len(first_item_set_acceptaple))\n",
    "        print(\"OO\")\n",
    "        first_item_set_not_acceptaple=[k for k,v in dict(first_item_set1).items() if v< min_support]\n",
    "        seconed_item_set1=nltk.FreqDist(list(ngrams(paths_in_one_string.split(\";\"),k+1)))\n",
    "        seconed_item_set=[k for i,k in enumerate(list(set(ngrams(paths_in_one_string.split(\";\"),k+1)))) if not check(i,k,first_item_set_not_acceptaple)]\n",
    "#         print(\":::\")\n",
    "# #         #       \n",
    "# Freq_path\n",
    "#         invers_Freq_path={}\n",
    "#         for k,v in Freq_path.items():\n",
    "#             try:\n",
    "#                 invers_Freq_path[v].append(k)\n",
    "#             except:\n",
    "#                 invers_Freq_path[v]=[k]\n",
    "#             invers_Freq_path\n",
    "    #         print(first_item_set)\n",
    "#         print(\"L::\")\n",
    "        pattern[tk]=seconed_item_set\n",
    "    return pattern,list(ngrams(paths_in_one_string.split(\";\"),k+1))\n",
    "#     for tk in range(2,k+1):\n",
    "#         keys=list(itertools.product(*[[\"a\",\"b\"]]*2))\n",
    "    \n",
    "#     all_paths=\"*\".join(paths_cleaned)\n",
    "    \n",
    "GSP(2,paths_cleaned,100)\n",
    "\n",
    "    \n"
   ]
  },
  {
   "cell_type": "code",
   "execution_count": null,
   "metadata": {},
   "outputs": [],
   "source": []
  },
  {
   "cell_type": "code",
   "execution_count": null,
   "metadata": {},
   "outputs": [],
   "source": [
    "[[\"a\",\"b\"]]*2\n",
    "    "
   ]
  },
  {
   "cell_type": "code",
   "execution_count": null,
   "metadata": {},
   "outputs": [],
   "source": [
    "import itertools\n",
    "list(itertools.permutations(*[[\"a\",\"b\",\"c\"]],2))"
   ]
  },
  {
   "cell_type": "code",
   "execution_count": null,
   "metadata": {},
   "outputs": [],
   "source": [
    "nltk.FreqDist(numbers_of_feq)"
   ]
  },
  {
   "cell_type": "code",
   "execution_count": null,
   "metadata": {},
   "outputs": [],
   "source": [
    "def calculate_support_first_item_set(paths):\n",
    "    paths_in_one_string=\";\".join(paths)\n",
    "    first_item_set1=nltk.FreqDist(paths_in_one_string.split(\";\"))\n",
    "    return dict(first_item_set1)\n",
    "def get_acceptaple_first_item_set(first_item_set,min_support):\n",
    "    result=[]\n",
    "    for k,v in first_item_set.items():\n",
    "        if v>=min_support:\n",
    "#             print(\"LLLL\",k.split())\n",
    "#             print(k)\n",
    "            K=[[I]for I in k.split()]\n",
    "            result.append(K)\n",
    "    return [result]\n",
    "def calculate_candidate_pattern_from_frist_item_set_acceptaple(first_item_set_acceptaple):\n",
    "    return list(itertools.permutations(first_item_set_acceptaple,2))\n",
    "def calculate_support_k_item_set(k_item_set_candidate,paths):\n",
    "#     print(\":::::::\",\"HIIIIIIIIIIIII\",len(paths))\n",
    "    def spliting(path):\n",
    "        return path.split(\";\")\n",
    "    paths=paths.apply(spliting)\n",
    "    global x\n",
    "    def check_if_item_candidate_in_path(path,item_candidate):\n",
    "        \n",
    "        r=[]\n",
    "        \n",
    "#         print(x)\n",
    "\n",
    "        for item in item_candidate:\n",
    "#             print(item[0],path,\"PPPPPPPPPPP\")\n",
    "            if item[0][0] in path:\n",
    "                r.insert(path.index(item[0][0]),item[0][0])\n",
    "#             print(r,list(item_candidate),\"?>>>>>>>??????\",path)\n",
    "        if (r==list(np.array(item_candidate).flatten())):\n",
    "#             print(\">>>>>>>>???????????????\",path)\n",
    " \n",
    "        \n",
    "            global x\n",
    "        \n",
    "            x+=1\n",
    "    result={}\n",
    "    for item_candidate in k_item_set_candidate:\n",
    "        x=0\n",
    "        paths.apply(check_if_item_candidate_in_path,args=([item_candidate]))\n",
    "        try:\n",
    "            \n",
    "    #         print(\":::::\",np.array(item_candidate).flatten())\n",
    "            result[\" \".join(np.array(list(item_candidate)).flatten())]=x\n",
    "        except:\n",
    "            pass\n",
    "#             print(item_candidate,\":::::::::\")\n",
    "\n",
    "        \n",
    "    return result\n",
    "def calculate_candidate_pattern_from_k_item_set_acceptaple(first_item_set_acceptaple):\n",
    "    def help_function(a,L):\n",
    "        res=[]\n",
    "#         print(\":::::\",a)\n",
    "        for item in L:\n",
    "#             print(item[0:len(a)-1],\"}}}\",a[1:len(a)],\":::::\",a,\"?????\",item)\n",
    "#             print(\"AAAAAAAAAAAAAA\",a[1:len(a)],\"mmmmmmm\",item[len(a)-1:],\"???????\",item)\n",
    "#             print(\"**********\",a[1:len(a)],)\n",
    "            if item[0:len(a)-1]==a[1:len(a)] and item!=a:\n",
    "#                 print(\"::::????????\",list(a).copy())\n",
    "                c=list(a).copy()\n",
    "#                 c.append(item)\n",
    "                L.remove(item)\n",
    "                \n",
    "                c.append(item[len(a)-1:][0])\n",
    "#                 print(\"CCCClllllllllllllll\",item[len(a)-1:][0])\n",
    "# \n",
    "                res.append(c)\n",
    "    #             print(\":\",[a[0]])\n",
    "    #             f([a[0]],L)\n",
    "        return res\n",
    "    result=[]\n",
    "    for item in first_item_set_acceptaple[0]:\n",
    "#         print(\">>>>>>\",item)\n",
    "        result+=help_function(item,first_item_set_acceptaple[0])\n",
    "#         print(result)\n",
    "    return result\n",
    "def delete_arrow(path):\n",
    "    path=path.replace(\"<;\",\"\")\n",
    "    path=path.replace(\">;\",\"\")\n",
    "#     path=path.replace(\";\",\" \")\n",
    "    return path.lower()"
   ]
  },
  {
   "cell_type": "code",
   "execution_count": 868,
   "metadata": {},
   "outputs": [],
   "source": [
    "res=calculate_support_first_item_set(paths_cleaned[:10])"
   ]
  },
  {
   "cell_type": "code",
   "execution_count": 869,
   "metadata": {},
   "outputs": [],
   "source": [
    "acceptaple=get_acceptaple_first_item_set(res,3)"
   ]
  },
  {
   "cell_type": "code",
   "execution_count": 867,
   "metadata": {},
   "outputs": [
    {
     "data": {
      "text/plain": [
       "{1: [[['14th_century']],\n",
       "  [['europe']],\n",
       "  [['time']],\n",
       "  [['physics']],\n",
       "  [['speed_of_light']],\n",
       "  [['rainbow']],\n",
       "  [['color']],\n",
       "  [['ultraviolet']]],\n",
       " 2: [],\n",
       " 3: []}"
      ]
     },
     "execution_count": 867,
     "metadata": {},
     "output_type": "execute_result"
    }
   ],
   "source": [
    "# data=pd.read_csv(\"paths_finished.tsv\",sep=\"\\t\",skiprows=16,header=None)\n",
    "# paths=data[3]\n",
    "# paths_cleaned=paths.apply(delete_arrow)\n",
    "# res=calculate_support_first_item_set(paths_cleaned[:10])\n",
    "# acceptaple=get_acceptaple_first_item_set(res,3)\n",
    "candidates=calculate_candidate_pattern_from_frist_item_set_acceptaple(acceptaple)\n",
    "candidate=calculate_support_k_item_set(candidates,paths_cleaned[:10])\n",
    "candidate_acceptaple=get_acceptaple_first_item_set(candidate,0)\n",
    "k=3\n",
    "res={}\n",
    "res[1]=acceptaple[0]\n",
    "res[2]=candidate_acceptaple[0]\n",
    "while True:\n",
    "    candidate_ks=calculate_candidate_pattern_from_k_item_set_acceptaple(candidate_acceptaple)\n",
    "    candidate_k=calculate_support_k_item_set(candidate_ks,paths_cleaned[:10])\n",
    "    \n",
    "    candidate_k_acceptaple=get_acceptaple_first_item_set(candidate_k,0)\n",
    "    candidate_acceptaple=candidate_k_acceptaple\n",
    "#     print(candidate_acceptaple,\"?????????????>>>>>>>>\")\n",
    "#     print(candidate_k,\"::::::????????\")\n",
    "    res[k]=candidate_k_acceptaple[0]\n",
    "    k+=1\n",
    "    if candidate_acceptaple ==[[]]:\n",
    "        break\n",
    "res"
   ]
  },
  {
   "cell_type": "code",
   "execution_count": 879,
   "metadata": {},
   "outputs": [
    {
     "data": {
      "text/plain": [
       "[([['14th_century']], [['europe']]),\n",
       " ([['14th_century']], [['time']]),\n",
       " ([['14th_century']], [['physics']]),\n",
       " ([['14th_century']], [['speed_of_light']]),\n",
       " ([['14th_century']], [['rainbow']]),\n",
       " ([['14th_century']], [['color']]),\n",
       " ([['14th_century']], [['ultraviolet']]),\n",
       " ([['europe']], [['14th_century']]),\n",
       " ([['europe']], [['time']]),\n",
       " ([['europe']], [['physics']]),\n",
       " ([['europe']], [['speed_of_light']]),\n",
       " ([['europe']], [['rainbow']]),\n",
       " ([['europe']], [['color']]),\n",
       " ([['europe']], [['ultraviolet']]),\n",
       " ([['time']], [['14th_century']]),\n",
       " ([['time']], [['europe']]),\n",
       " ([['time']], [['physics']]),\n",
       " ([['time']], [['speed_of_light']]),\n",
       " ([['time']], [['rainbow']]),\n",
       " ([['time']], [['color']]),\n",
       " ([['time']], [['ultraviolet']]),\n",
       " ([['physics']], [['14th_century']]),\n",
       " ([['physics']], [['europe']]),\n",
       " ([['physics']], [['time']]),\n",
       " ([['physics']], [['speed_of_light']]),\n",
       " ([['physics']], [['rainbow']]),\n",
       " ([['physics']], [['color']]),\n",
       " ([['physics']], [['ultraviolet']]),\n",
       " ([['speed_of_light']], [['14th_century']]),\n",
       " ([['speed_of_light']], [['europe']]),\n",
       " ([['speed_of_light']], [['time']]),\n",
       " ([['speed_of_light']], [['physics']]),\n",
       " ([['speed_of_light']], [['rainbow']]),\n",
       " ([['speed_of_light']], [['color']]),\n",
       " ([['speed_of_light']], [['ultraviolet']]),\n",
       " ([['rainbow']], [['14th_century']]),\n",
       " ([['rainbow']], [['europe']]),\n",
       " ([['rainbow']], [['time']]),\n",
       " ([['rainbow']], [['physics']]),\n",
       " ([['rainbow']], [['speed_of_light']]),\n",
       " ([['rainbow']], [['color']]),\n",
       " ([['rainbow']], [['ultraviolet']]),\n",
       " ([['color']], [['14th_century']]),\n",
       " ([['color']], [['europe']]),\n",
       " ([['color']], [['time']]),\n",
       " ([['color']], [['physics']]),\n",
       " ([['color']], [['speed_of_light']]),\n",
       " ([['color']], [['rainbow']]),\n",
       " ([['color']], [['ultraviolet']]),\n",
       " ([['ultraviolet']], [['14th_century']]),\n",
       " ([['ultraviolet']], [['europe']]),\n",
       " ([['ultraviolet']], [['time']]),\n",
       " ([['ultraviolet']], [['physics']]),\n",
       " ([['ultraviolet']], [['speed_of_light']]),\n",
       " ([['ultraviolet']], [['rainbow']]),\n",
       " ([['ultraviolet']], [['color']])]"
      ]
     },
     "execution_count": 879,
     "metadata": {},
     "output_type": "execute_result"
    }
   ],
   "source": [
    "candidates=calculate_candidate_pattern_from_frist_item_set_acceptaple(acceptaple[0])\n",
    "candidates"
   ]
  },
  {
   "cell_type": "code",
   "execution_count": 878,
   "metadata": {},
   "outputs": [
    {
     "data": {
      "text/plain": [
       "[[['14th_century']],\n",
       " [['europe']],\n",
       " [['time']],\n",
       " [['physics']],\n",
       " [['speed_of_light']],\n",
       " [['rainbow']],\n",
       " [['color']],\n",
       " [['ultraviolet']]]"
      ]
     },
     "execution_count": 878,
     "metadata": {},
     "output_type": "execute_result"
    }
   ],
   "source": [
    "acceptaple[0]"
   ]
  },
  {
   "cell_type": "code",
   "execution_count": null,
   "metadata": {},
   "outputs": [],
   "source": [
    "candidates=calculate_candidate_pattern_from_frist_item_set_acceptaple(acceptaple)\n",
    "candidate=calculate_support_k_item_set(candidates,paths_cleaned[:10])\n",
    "candidate_acceptaple=get_acceptaple_first_item_set(candidate,0)"
   ]
  },
  {
   "cell_type": "code",
   "execution_count": null,
   "metadata": {},
   "outputs": [],
   "source": [
    "calculate_candidate_pattern_from_k_item_set_acceptaple([candidates])"
   ]
  },
  {
   "cell_type": "code",
   "execution_count": null,
   "metadata": {},
   "outputs": [],
   "source": [
    "candidate_acceptaple"
   ]
  },
  {
   "cell_type": "code",
   "execution_count": null,
   "metadata": {},
   "outputs": [],
   "source": [
    "candidate_acceptaple"
   ]
  },
  {
   "cell_type": "code",
   "execution_count": null,
   "metadata": {},
   "outputs": [],
   "source": [
    "\" \".join(np.array(list(([['14th_century']], [['europe']]))).flatten())"
   ]
  },
  {
   "cell_type": "code",
   "execution_count": null,
   "metadata": {},
   "outputs": [],
   "source": [
    "candidates=calculate_candidate_pattern_from_frist_item_set_acceptaple(acceptaple)\n",
    "candidate=calculate_support_k_item_set(candidates,paths_cleaned[:10])\n",
    "candidate_acceptaple=get_acceptaple_first_item_set(candidate,0)\n",
    "candidate_acceptaple"
   ]
  },
  {
   "cell_type": "code",
   "execution_count": null,
   "metadata": {},
   "outputs": [],
   "source": [
    "candidate_acceptaple=calculate_candidate_pattern_from_k_item_set_acceptaple(candidate_acceptaple)"
   ]
  },
  {
   "cell_type": "code",
   "execution_count": null,
   "metadata": {},
   "outputs": [],
   "source": [
    "tt=calculate_candidate_pattern_from_k_item_set_acceptaple(candidate_acceptaple)\n",
    "tt"
   ]
  },
  {
   "cell_type": "code",
   "execution_count": null,
   "metadata": {},
   "outputs": [],
   "source": [
    "tt"
   ]
  },
  {
   "cell_type": "code",
   "execution_count": null,
   "metadata": {},
   "outputs": [],
   "source": [
    "candidate_acceptaple"
   ]
  },
  {
   "cell_type": "code",
   "execution_count": null,
   "metadata": {},
   "outputs": [],
   "source": [
    "cx= [[['14th_century'], ['europe'], ['14th_century']],\n",
    "  [['14th_century'], ['europe'], ['physics']],\n",
    "  [['14th_century'], ['europe'], ['rainbow']],\n",
    "  [['14th_century'], ['europe'], ['ultraviolet']],\n",
    "  [['14th_century'], ['time'], ['14th_century']],\n",
    "  [['14th_century'], ['time'], ['physics']],\n",
    "  [['14th_century'], ['time'], ['rainbow']],\n",
    "  [['14th_century'], ['time'], ['ultraviolet']],\n",
    "  [['14th_century'], ['physics'], ['14th_century']],\n",
    "  [['14th_century'], ['physics'], ['time']],\n",
    "  [['14th_century'], ['physics'], ['rainbow']],\n",
    "  [['14th_century'], ['physics'], ['ultraviolet']],\n",
    "  [['14th_century'], ['speed_of_light'], ['14th_century']],\n",
    "  [['14th_century'], ['speed_of_light'], ['time']],\n",
    "  [['14th_century'], ['speed_of_light'], ['rainbow']],\n",
    "  [['14th_century'], ['speed_of_light'], ['ultraviolet']],\n",
    "  [['14th_century'], ['rainbow'], ['14th_century']],\n",
    "  [['14th_century'], ['rainbow'], ['time']],\n",
    "  [['14th_century'], ['rainbow'], ['speed_of_light']],\n",
    "  [['14th_century'], ['rainbow'], ['ultraviolet']],\n",
    "  [['14th_century'], ['color'], ['14th_century']],\n",
    "  [['14th_century'], ['color'], ['time']],\n",
    "  [['14th_century'], ['color'], ['speed_of_light']],\n",
    "  [['14th_century'], ['color'], ['ultraviolet']],\n",
    "  [['14th_century'], ['ultraviolet'], ['14th_century']],\n",
    "  [['14th_century'], ['ultraviolet'], ['time']],\n",
    "  [['14th_century'], ['ultraviolet'], ['speed_of_light']],\n",
    "  [['14th_century'], ['ultraviolet'], ['color']],\n",
    "  [['europe'], ['time'], ['europe']],\n",
    "  [['europe'], ['time'], ['color']],\n",
    "  [['europe'], ['speed_of_light'], ['europe']],\n",
    "  [['europe'], ['speed_of_light'], ['color']],\n",
    "  [['europe'], ['color'], ['europe']],\n",
    "  [['europe'], ['color'], ['rainbow']],\n",
    "  [['time'], ['speed_of_light'], ['physics']],\n",
    "  [['physics'], ['europe'], ['time']],\n",
    "  [['physics'], ['europe'], ['color']],\n",
    "  [['rainbow'], ['europe'], ['speed_of_light']],\n",
    "  [['rainbow'], ['color'], ['physics']],\n",
    "  [['ultraviolet'], ['physics'], ['europe']]]\n",
    "calculate_candidate_pattern_from_k_item_set_acceptaple(candidate)"
   ]
  },
  {
   "cell_type": "code",
   "execution_count": null,
   "metadata": {},
   "outputs": [],
   "source": []
  },
  {
   "cell_type": "code",
   "execution_count": null,
   "metadata": {},
   "outputs": [],
   "source": [
    "candidates=calculate_candidate_pattern_from_frist_item_set_acceptaple(acceptaple)\n",
    "candidate=calculate_support_k_item_set(candidates,paths_cleaned[:10])\n",
    "candidate_acceptaple=get_acceptaple_first_item_set(candidate,0)"
   ]
  },
  {
   "cell_type": "code",
   "execution_count": null,
   "metadata": {},
   "outputs": [],
   "source": [
    "candidate_acceptaple"
   ]
  },
  {
   "cell_type": "code",
   "execution_count": null,
   "metadata": {},
   "outputs": [],
   "source": [
    "calculate_candidate_pattern_from_k_item_set_acceptaple(cx)"
   ]
  },
  {
   "cell_type": "code",
   "execution_count": null,
   "metadata": {},
   "outputs": [],
   "source": [
    "cx[0][0]"
   ]
  },
  {
   "cell_type": "code",
   "execution_count": null,
   "metadata": {},
   "outputs": [],
   "source": [
    "[[['14th_century'], ['europe'], ['14th_century']], [['14th_century'], ['europe'], ['physics']], [['14th_century'], ['europe'], ['rainbow']], [['14th_century'], ['europe'], ['ultraviolet']], [['14th_century'], ['time'], ['14th_century']], [['14th_century'], ['time'], ['physics']]]"
   ]
  },
  {
   "cell_type": "code",
   "execution_count": null,
   "metadata": {},
   "outputs": [],
   "source": [
    "cx=[[['14th_century'], ['europe'], ['14th_century']],\n",
    " [['14th_century'], ['europe'], ['physics']],\n",
    " [['14th_century'], ['europe'],['rainbow']],\n",
    " [['14th_century'], ['europe'], ['ultraviolet']],\n",
    " [['14th_century'], ['time'], ['14th_century']],\n",
    " [['14th_century'], ['time'], ['physics']]],\n"
   ]
  },
  {
   "cell_type": "code",
   "execution_count": null,
   "metadata": {},
   "outputs": [],
   "source": [
    "calculate_support_k_item_set(calculate_candidate_pattern_from_k_item_set_acceptaple(candidate_acceptaple),paths_cleaned[:10])"
   ]
  },
  {
   "cell_type": "code",
   "execution_count": null,
   "metadata": {},
   "outputs": [],
   "source": [
    "candidate_acceptaple"
   ]
  },
  {
   "cell_type": "code",
   "execution_count": null,
   "metadata": {},
   "outputs": [],
   "source": []
  },
  {
   "cell_type": "code",
   "execution_count": null,
   "metadata": {},
   "outputs": [],
   "source": [
    "candidate_k=candidate=calculate_candidate_pattern_from_frist_item_set_acceptaple(acceptaple)\n",
    "candidate_k"
   ]
  },
  {
   "cell_type": "code",
   "execution_count": null,
   "metadata": {},
   "outputs": [],
   "source": [
    "candidate_k"
   ]
  },
  {
   "cell_type": "code",
   "execution_count": null,
   "metadata": {},
   "outputs": [],
   "source": [
    "candidate=calculate_candidate_pattern_from_frist_item_set_acceptaple(acceptaple)\n",
    "# candidate=calculate_support_k_item_set(candidate,paths_cleaned[:10])\n",
    "# candidate_acceptaple=get_acceptaple_first_item_set(candidate,2)\n",
    "# candidate_acceptaple\n",
    "acceptaple"
   ]
  },
  {
   "cell_type": "code",
   "execution_count": null,
   "metadata": {},
   "outputs": [],
   "source": [
    "candidate"
   ]
  },
  {
   "cell_type": "code",
   "execution_count": null,
   "metadata": {},
   "outputs": [],
   "source": [
    "candidate_ks=calculate_candidate_pattern_from_k_item_set_acceptaple(candidate_k)"
   ]
  },
  {
   "cell_type": "code",
   "execution_count": null,
   "metadata": {},
   "outputs": [],
   "source": [
    "candidate_ks"
   ]
  },
  {
   "cell_type": "code",
   "execution_count": null,
   "metadata": {},
   "outputs": [],
   "source": [
    "candidate_k"
   ]
  },
  {
   "cell_type": "code",
   "execution_count": null,
   "metadata": {},
   "outputs": [],
   "source": [
    "acceptaple_k=calculate_support_k_item_set(candidate,paths_cleaned[:10])\n",
    "acceptaple_k=get_acceptaple_first_item_set(acceptaple_k,2)\n",
    "acceptaple_k"
   ]
  },
  {
   "cell_type": "code",
   "execution_count": null,
   "metadata": {},
   "outputs": [],
   "source": [
    "acceptaple_k"
   ]
  },
  {
   "cell_type": "code",
   "execution_count": null,
   "metadata": {},
   "outputs": [],
   "source": [
    "paths_cleaned[:10]"
   ]
  },
  {
   "cell_type": "code",
   "execution_count": null,
   "metadata": {},
   "outputs": [],
   "source": []
  },
  {
   "cell_type": "code",
   "execution_count": null,
   "metadata": {},
   "outputs": [],
   "source": [
    "calculate_candidate_pattern_from_k_item_set_acceptaple([candidates])\n"
   ]
  },
  {
   "cell_type": "code",
   "execution_count": null,
   "metadata": {},
   "outputs": [],
   "source": [
    "[candidates]"
   ]
  },
  {
   "cell_type": "code",
   "execution_count": null,
   "metadata": {},
   "outputs": [],
   "source": [
    "[[['14th_century'], ['europe'], ['14th_century']], [['14th_century'], ['europe'], ['physics']], [['14th_century'], ['europe'], ['rainbow']], [['14th_century'], ['europe'], ['ultraviolet']], [['14th_century'], ['time'], ['14th_century']], [['14th_century'], ['time'], ['physics']]]"
   ]
  },
  {
   "cell_type": "code",
   "execution_count": null,
   "metadata": {},
   "outputs": [],
   "source": [
    "cx[0]"
   ]
  },
  {
   "cell_type": "code",
   "execution_count": null,
   "metadata": {},
   "outputs": [],
   "source": [
    "[candidates]"
   ]
  },
  {
   "cell_type": "code",
   "execution_count": null,
   "metadata": {},
   "outputs": [],
   "source": []
  }
 ],
 "metadata": {
  "kernelspec": {
   "display_name": "Python 3",
   "language": "python",
   "name": "python3"
  },
  "language_info": {
   "codemirror_mode": {
    "name": "ipython",
    "version": 3
   },
   "file_extension": ".py",
   "mimetype": "text/x-python",
   "name": "python",
   "nbconvert_exporter": "python",
   "pygments_lexer": "ipython3",
   "version": "3.7.0"
  }
 },
 "nbformat": 4,
 "nbformat_minor": 4
}
