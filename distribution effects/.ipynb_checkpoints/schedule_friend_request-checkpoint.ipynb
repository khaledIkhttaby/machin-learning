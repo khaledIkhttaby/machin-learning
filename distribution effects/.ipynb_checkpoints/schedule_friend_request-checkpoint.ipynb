{
 "cells": [
  {
   "cell_type": "code",
   "execution_count": 1,
   "metadata": {},
   "outputs": [
    {
     "name": "stdout",
     "output_type": "stream",
     "text": [
      "----bot_id---- : 1\n",
      "----number requests---- : 25.57310924369748\n",
      "-----period---- : 2\n"
     ]
    },
    {
     "data": {
      "text/plain": [
       "True"
      ]
     },
     "execution_count": 1,
     "metadata": {},
     "output_type": "execute_result"
    }
   ],
   "source": [
    "import numpy as np\n",
    "def get_number_friend_request_already_sents(bot_id):\n",
    "    return np.random.choice(np.arange(50,500))\n",
    "def get_number_friends(bot_id):\n",
    "    return np.random.choice(np.arange(50,100))\n",
    "def get_target_friends(bot_id):\n",
    "    return np.random.choice(np.arange(50,500))\n",
    "def get_last_priod(bot_id):\n",
    "    return np.random.choice(np.arange(1,7))\n",
    "def sent_base_period(bot_id):\n",
    "    nummber_period=get_last_priod(bot_id)+1\n",
    "    already_sents=get_number_friend_request_already_sents(bot_id)\n",
    "    number_friends=get_number_friends(bot_id)\n",
    "    target_friends=get_target_friends(bot_id)\n",
    "    def get_previos_request_must_be_sent(nummber_period):\n",
    "        su=5\n",
    "        for i in range(nummber_period):\n",
    "            su+= np.random.choice(np.arange(((1/3)**i)*target_friends,((1/3)**i)*(target_friends+50)))\n",
    "        return su\n",
    "    previos_must_be_sent=get_previos_request_must_be_sent(nummber_period)\n",
    "    persent_for_this_period=int(already_sents+number_friends)/int(previos_must_be_sent)\n",
    "    number_must_be_send_this_period=persent_for_this_period*(np.random.choice(np.arange(((1/3)**nummber_period)*target_friends,((1/3)**nummber_period)*(target_friends+50))))\n",
    "    def insert_into_database(number_must_be_send_this_period,bot_id):\n",
    "        print(\"----bot_id---- :\",bot_id)\n",
    "        print(\"----number requests---- :\",number_must_be_send_this_period)\n",
    "#         global nummber_period\n",
    "        print(\"-----period---- :\",nummber_period)\n",
    "        return True \n",
    "    return insert_into_database(number_must_be_send_this_period,bot_id)\n",
    "sent_base_period(1)"
   ]
  },
  {
   "cell_type": "code",
   "execution_count": 2,
   "metadata": {},
   "outputs": [
    {
     "name": "stdout",
     "output_type": "stream",
     "text": [
      "----bot_id---- : 1\n",
      "----number requests---- : 1.01324837382185\n",
      "-----period---- : 5\n",
      "----bot_id---- : 1\n",
      "----number requests---- : 23.111111111111107\n",
      "-----period---- : 2\n",
      "----bot_id---- : 1\n",
      "----number requests---- : 9.667754467754465\n",
      "-----period---- : 3\n",
      "----bot_id---- : 1\n",
      "----number requests---- : 0.1405533145907183\n",
      "-----period---- : 6\n",
      "----bot_id---- : 1\n",
      "----number requests---- : 0.15867024888867237\n",
      "-----period---- : 6\n",
      "----bot_id---- : 1\n",
      "----number requests---- : 28.32608187134503\n",
      "-----period---- : 2\n"
     ]
    }
   ],
   "source": [
    "import time\n",
    "from threading import Thread\n",
    "import schedule\n",
    "def creat_schedule(bot_id):\n",
    "    import time\n",
    "    schedule.every(5).seconds.do(lambda: sent_base_period(bot_id))\n",
    "    while 1:\n",
    "        schedule.run_pending()\n",
    "        time.sleep(1)\n",
    "\n",
    "def creat_thread_for_run_schedule_friend_request(bot_id):\n",
    "    thread = Thread(target=creat_schedule, args=(bot_id,))\n",
    "    thread.start()\n",
    "creat_thread_for_run_schedule_friend_request(1)"
   ]
  },
  {
   "cell_type": "code",
   "execution_count": null,
   "metadata": {},
   "outputs": [],
   "source": []
  }
 ],
 "metadata": {
  "kernelspec": {
   "display_name": "Python 3",
   "language": "python",
   "name": "python3"
  },
  "language_info": {
   "codemirror_mode": {
    "name": "ipython",
    "version": 3
   },
   "file_extension": ".py",
   "mimetype": "text/x-python",
   "name": "python",
   "nbconvert_exporter": "python",
   "pygments_lexer": "ipython3",
   "version": "3.7.10"
  }
 },
 "nbformat": 4,
 "nbformat_minor": 4
}
