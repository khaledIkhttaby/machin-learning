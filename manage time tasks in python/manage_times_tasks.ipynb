{
 "cells": [
  {
   "cell_type": "code",
   "execution_count": 1,
   "metadata": {},
   "outputs": [],
   "source": [
    "import time\n",
    "def foo(parameters):\n",
    "    print (parameters)\n",
    "    time.sleep(10)\n",
    "    return 'Done Acceptable Time'\n",
    "\n"
   ]
  },
  {
   "cell_type": "code",
   "execution_count": 2,
   "metadata": {},
   "outputs": [],
   "source": [
    "import ctypes"
   ]
  },
  {
   "cell_type": "code",
   "execution_count": 7,
   "metadata": {},
   "outputs": [
    {
     "name": "stdout",
     "output_type": "stream",
     "text": [
      "{'REQUEST': 'request'}\n"
     ]
    },
    {
     "ename": "Exception",
     "evalue": "time out error",
     "output_type": "error",
     "traceback": [
      "\u001b[1;31m---------------------------------------------------------------------------\u001b[0m",
      "\u001b[1;31mException\u001b[0m                                 Traceback (most recent call last)",
      "\u001b[1;32m<ipython-input-7-8b7197c7d94e>\u001b[0m in \u001b[0;36m<module>\u001b[1;34m\u001b[0m\n\u001b[0;32m     55\u001b[0m \u001b[1;33m\u001b[0m\u001b[0m\n\u001b[0;32m     56\u001b[0m \u001b[0mmangetask\u001b[0m\u001b[1;33m=\u001b[0m\u001b[0mManageTimeTasks\u001b[0m\u001b[1;33m(\u001b[0m\u001b[0mfoo\u001b[0m\u001b[1;33m,\u001b[0m\u001b[1;36m1\u001b[0m\u001b[1;33m,\u001b[0m\u001b[1;33m{\u001b[0m\u001b[1;34m\"REQUEST\"\u001b[0m\u001b[1;33m:\u001b[0m\u001b[1;34m\"request\"\u001b[0m\u001b[1;33m}\u001b[0m\u001b[1;33m)\u001b[0m\u001b[1;33m\u001b[0m\u001b[1;33m\u001b[0m\u001b[0m\n\u001b[1;32m---> 57\u001b[1;33m \u001b[0mresult\u001b[0m\u001b[1;33m=\u001b[0m\u001b[0mmangetask\u001b[0m\u001b[1;33m.\u001b[0m\u001b[0mrun\u001b[0m\u001b[1;33m(\u001b[0m\u001b[1;33m)\u001b[0m\u001b[1;33m\u001b[0m\u001b[1;33m\u001b[0m\u001b[0m\n\u001b[0m\u001b[0;32m     58\u001b[0m \u001b[0mresult\u001b[0m\u001b[1;33m\u001b[0m\u001b[1;33m\u001b[0m\u001b[0m\n",
      "\u001b[1;32m<ipython-input-7-8b7197c7d94e>\u001b[0m in \u001b[0;36mrun\u001b[1;34m(self)\u001b[0m\n\u001b[0;32m     46\u001b[0m             \u001b[0mself\u001b[0m\u001b[1;33m.\u001b[0m\u001b[0mterminate_thread\u001b[0m\u001b[1;33m(\u001b[0m\u001b[0mself\u001b[0m\u001b[1;33m.\u001b[0m\u001b[0mthread\u001b[0m\u001b[1;33m)\u001b[0m\u001b[1;33m\u001b[0m\u001b[1;33m\u001b[0m\u001b[0m\n\u001b[0;32m     47\u001b[0m \u001b[1;33m\u001b[0m\u001b[0m\n\u001b[1;32m---> 48\u001b[1;33m             \u001b[1;32mraise\u001b[0m \u001b[0mException\u001b[0m\u001b[1;33m(\u001b[0m\u001b[1;34m\"time out error\"\u001b[0m\u001b[1;33m)\u001b[0m\u001b[1;33m\u001b[0m\u001b[1;33m\u001b[0m\u001b[0m\n\u001b[0m\u001b[0;32m     49\u001b[0m \u001b[1;33m\u001b[0m\u001b[0m\n\u001b[0;32m     50\u001b[0m         \u001b[1;32melse\u001b[0m\u001b[1;33m:\u001b[0m\u001b[1;33m\u001b[0m\u001b[1;33m\u001b[0m\u001b[0m\n",
      "\u001b[1;31mException\u001b[0m: time out error"
     ]
    }
   ],
   "source": [
    "class ManageTimeTasks():\n",
    "    import ctypes\n",
    "    from queue import Queue    \n",
    "    def __init__(self,function,time_per_second,args):\n",
    "        from queue import Queue \n",
    "        from threading import Thread\n",
    "        self.function=function\n",
    "        self.time_per_second=time_per_second\n",
    "        self.args=args\n",
    "        self.que = Queue() \n",
    "#         print(\"SSSSSSS\",self.que)\n",
    "        self.thread = Thread(target=lambda q, arg1: q.put(self.function(arg1)), args=(self.que, self.args))\n",
    " \n",
    "\n",
    "\n",
    "    def terminate_thread(self,thread):\n",
    "        import ctypes\n",
    "        \"\"\"Terminates a python thread from another thread.\n",
    "\n",
    "        :param thread: a threading.Thread instance\n",
    "        \"\"\"\n",
    "        if not thread.isAlive():\n",
    "            return\n",
    "\n",
    "        exc = ctypes.py_object(SystemExit)\n",
    "        res = ctypes.pythonapi.PyThreadState_SetAsyncExc(\n",
    "            ctypes.c_long(thread.ident), exc)\n",
    "        if res == 0:\n",
    "            raise ValueError(\"nonexistent thread id\")\n",
    "        elif res > 1:\n",
    "            # \"\"\"if it returns a number greater than one, you're in trouble,\n",
    "            # and you should call it again with exc=NULL to revert the effect\"\"\"\n",
    "            ctypes.pythonapi.PyThreadState_SetAsyncExc(thread.ident, None)\n",
    "            raise SystemError(\"PyThreadState_SetAsyncExc failed\")\n",
    "    def run(self):\n",
    "#         self.thread.start()\n",
    "#         self.thread.join()\n",
    "#         print(self.que.get())\n",
    "#         print(\":::::::\",self.thread)\n",
    "        self.thread.start()\n",
    "    \n",
    "        self.thread.join(self.time_per_second)\n",
    "        if self.thread.is_alive():\n",
    "#             print (\"thread is not done, setting event to kill thread.\")\n",
    "            \n",
    "            self.terminate_thread(self.thread)\n",
    "         \n",
    "            raise Exception(\"time out error\")\n",
    "    \n",
    "        else:\n",
    "#             print (\"thread has already finished.\")\n",
    "#             self.thread.join()\n",
    "            result = self.que.get()\n",
    "            return result\n",
    "\n",
    "mangetask=ManageTimeTasks(foo,1,{\"REQUEST\":\"request\"})\n",
    "result=mangetask.run()\n",
    "result\n"
   ]
  },
  {
   "cell_type": "code",
   "execution_count": null,
   "metadata": {},
   "outputs": [],
   "source": []
  },
  {
   "cell_type": "code",
   "execution_count": null,
   "metadata": {},
   "outputs": [],
   "source": []
  }
 ],
 "metadata": {
  "kernelspec": {
   "display_name": "Python 3",
   "language": "python",
   "name": "python3"
  },
  "language_info": {
   "codemirror_mode": {
    "name": "ipython",
    "version": 3
   },
   "file_extension": ".py",
   "mimetype": "text/x-python",
   "name": "python",
   "nbconvert_exporter": "python",
   "pygments_lexer": "ipython3",
   "version": "3.7.10"
  }
 },
 "nbformat": 4,
 "nbformat_minor": 4
}
