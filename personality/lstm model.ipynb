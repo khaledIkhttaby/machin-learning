{
 "cells": [
  {
   "cell_type": "code",
   "execution_count": 1,
   "metadata": {},
   "outputs": [],
   "source": [
    "import pandas as pd \n",
    "import numpy as np\n",
    "import seaborn as sns \n",
    "import matplotlib.pyplot as plt\n",
    "from sklearn.model_selection import train_test_split\n",
    "import xgboost\n",
    "from keras.layers import Dense, Dropout\n",
    "from keras.models import Sequential\n",
    "from keras.optimizers import Adam,SGD\n",
    "from sklearn.ensemble import RandomForestClassifier\n",
    "from sklearn.feature_extraction.text import TfidfVectorizer\n",
    "from sklearn.pipeline import Pipeline\n",
    "from sklearn.svm import SVC\n",
    "from sklearn.linear_model import LogisticRegression,RidgeClassifier\n",
    "from sklearn import metrics\n",
    "from sklearn.decomposition import TruncatedSVD\n",
    "\n",
    "from sklearn.preprocessing import LabelEncoder"
   ]
  },
  {
   "cell_type": "code",
   "execution_count": 2,
   "metadata": {},
   "outputs": [],
   "source": [
    "data=pd.read_csv(\"data_train.csv\",names=[\"label\",\"sentenc\"])\n",
    "data\n",
    "X=data.sentenc.values\n",
    "Y=data.label.values\n",
    "label_encoder=LabelEncoder()\n",
    "Y=label_encoder.fit_transform(Y)"
   ]
  },
  {
   "cell_type": "code",
   "execution_count": 3,
   "metadata": {},
   "outputs": [],
   "source": [
    "data_real_test=pd.read_csv(\"data_test.csv\",names=[\"label\",\"sentenc\"])\n",
    "X_test_real=data_real_test.sentenc.values\n",
    "Y_test_real=data_real_test.label.values\n",
    "Y_test_real=label_encoder.transform(Y_test_real)\n"
   ]
  },
  {
   "cell_type": "code",
   "execution_count": 69,
   "metadata": {},
   "outputs": [],
   "source": [
    "# from sklearn.utils import class_weight\n",
    "# class_weights = class_weight.compute_class_weight('balanced',\n",
    "#                                                  np.unique(Y),\n",
    "#                                                  Y)"
   ]
  },
  {
   "cell_type": "code",
   "execution_count": 70,
   "metadata": {},
   "outputs": [],
   "source": [
    "# class_weights"
   ]
  },
  {
   "cell_type": "code",
   "execution_count": 4,
   "metadata": {},
   "outputs": [],
   "source": [
    "w=data.label.value_counts()/data.label.value_counts().sum()"
   ]
  },
  {
   "cell_type": "code",
   "execution_count": 5,
   "metadata": {},
   "outputs": [],
   "source": [
    "w=data.label.value_counts()/data.label.value_counts().sum()\n",
    "class_wieght={}\n",
    "for i in range(len(w.index)):\n",
    "    class_wieght[label_encoder.transform([w.index[i]])[0]]=1-w[w.index[i]]\n"
   ]
  },
  {
   "cell_type": "code",
   "execution_count": 6,
   "metadata": {},
   "outputs": [
    {
     "data": {
      "text/plain": [
       "{5: 0.40877162926160704,\n",
       " 0: 0.8438410142196333,\n",
       " 1: 0.9037176631831421,\n",
       " 2: 0.9309576837416481,\n",
       " 3: 0.9495459996573582,\n",
       " 4: 0.9631660099366113}"
      ]
     },
     "execution_count": 6,
     "metadata": {},
     "output_type": "execute_result"
    }
   ],
   "source": [
    "class_wieght"
   ]
  },
  {
   "cell_type": "code",
   "execution_count": 74,
   "metadata": {},
   "outputs": [
    {
     "name": "stdout",
     "output_type": "stream",
     "text": [
      "Model: \"sequential_10\"\n",
      "_________________________________________________________________\n",
      "Layer (type)                 Output Shape              Param #   \n",
      "=================================================================\n",
      "dense_30 (Dense)             (None, 10)                644050    \n",
      "_________________________________________________________________\n",
      "dense_31 (Dense)             (None, 7)                 77        \n",
      "_________________________________________________________________\n",
      "dense_32 (Dense)             (None, 6)                 48        \n",
      "=================================================================\n",
      "Total params: 644,175\n",
      "Trainable params: 644,175\n",
      "Non-trainable params: 0\n",
      "_________________________________________________________________\n"
     ]
    }
   ],
   "source": [
    "model = Sequential()\n",
    "model.add(Dense(10,activation='tanh',input_shape=(64404,)))\n",
    "model.add(Dense(7,activation='sigmoid'))\n",
    "model.add(Dense(6,activation='softmax'))\n",
    "sgd = SGD(lr=0.1,momentum=0.0,nesterov = False)\n",
    "model.compile(optimizer =sgd,loss = 'categorical_crossentropy',metrics=['acc'])\n",
    "model.summary()"
   ]
  },
  {
   "cell_type": "code",
   "execution_count": 7,
   "metadata": {},
   "outputs": [
    {
     "data": {
      "text/plain": [
       "<matplotlib.axes._subplots.AxesSubplot at 0x192a6083248>"
      ]
     },
     "execution_count": 7,
     "metadata": {},
     "output_type": "execute_result"
    },
    {
     "data": {
      "image/png": "[encoded data removed]",
      "text/plain": [
       "<Figure size 1080x360 with 1 Axes>"
      ]
     },
     "metadata": {
      "needs_background": "light"
     },
     "output_type": "display_data"
    }
   ],
   "source": [
    "plt.figure(figsize=(15,5))\n",
    "sns.countplot(x='label',data=data)"
   ]
  },
  {
   "cell_type": "code",
   "execution_count": 8,
   "metadata": {},
   "outputs": [],
   "source": [
    "X_train,x_test,Y_train,y_test=train_test_split(X,Y,test_size=0.30,random_state=50)"
   ]
  },
  {
   "cell_type": "code",
   "execution_count": null,
   "metadata": {},
   "outputs": [],
   "source": [
    "\n",
    "model=Pipeline([(\"preprocess\",TfidfVectorizer(analyzer='word', token_pattern=r'\\w{1,}',ngram_range=(1,4), max_features=2000)),(\"svd\",TruncatedSVD(n_components=1000, n_iter=100, random_state=42)),(\"model\",classifier)])"
   ]
  },
  {
   "cell_type": "code",
   "execution_count": 30,
   "metadata": {},
   "outputs": [],
   "source": [
    "model=Pipeline([(\"preprocess\",TfidfVectorizer(analyzer='word', token_pattern=r'\\w{1,}',ngram_range=(1,4), max_features=2000)),(\"model\",SVC(kernel=\"rbf\",C=9,class_weight=class_wieght,gamma=0.15))])"
   ]
  },
  {
   "cell_type": "code",
   "execution_count": 126,
   "metadata": {},
   "outputs": [],
   "source": [
    "model=Pipeline([(\"preprocess\",TfidfVectorizer(analyzer='word', token_pattern=r'\\w{1,}',ngram_range=(1,4), max_features=2500)),(\"model\",RidgeClassifier(alpha=0.3,class_weight=class_wieght,fit_intercept=False,tol=0.8e-1\n",
    "                                                                                                                                                      ))])"
   ]
  },
  {
   "cell_type": "code",
   "execution_count": 10,
   "metadata": {},
   "outputs": [
    {
     "data": {
      "text/plain": [
       "{0: 1.0,\n",
       " 1: 3.749820767859636,\n",
       " 2: 1.0,\n",
       " 3: 3.749820767859636,\n",
       " 4: 1.0,\n",
       " 5: 2.5931008483842453,\n",
       " 6: 1.0,\n",
       " 7: 2.5931008483842453}"
      ]
     },
     "execution_count": 10,
     "metadata": {},
     "output_type": "execute_result"
    }
   ],
   "source": [
    "import numpy as np\n",
    "import math\n",
    "\n",
    "# labels_dict : {ind_label: count_label}\n",
    "# mu : parameter to tune \n",
    "\n",
    "def create_class_weight(labels_dict,mu=0.15):\n",
    "    total = np.sum(list(labels_dict.values()))\n",
    "    keys = labels_dict.keys()\n",
    "    class_weight = dict()\n",
    "    \n",
    "    for key in keys:\n",
    "        score = math.log(mu*total/float(labels_dict[key]))\n",
    "        class_weight[key] = score if score > 1.0 else 1.0\n",
    "    \n",
    "    return class_weight\n",
    "labels_dict = {0: 2813, 1: 78, 2: 2814, 3: 78, 4: 7914, 5: 248, 6: 7914, 7: 248}\n",
    "\n",
    "create_class_weight(labels_dict)"
   ]
  },
  {
   "cell_type": "code",
   "execution_count": 136,
   "metadata": {},
   "outputs": [],
   "source": [
    "import keras"
   ]
  },
  {
   "cell_type": "code",
   "execution_count": 37,
   "metadata": {},
   "outputs": [],
   "source": [
    "\n",
    "from sklearn.model_selection import GridSearchCV\n",
    "param_grid = {'model__C': [3,4,5,6,7,8],\"model__gamma\":[0.1,0.2,0.25,0.30,0.35,0.4] }\n",
    "# # param_grid = {'model__C':[0.01,0.1,1.0,10]\n",
    "# # \n",
    "# # }\n",
    "\n",
    "grid = GridSearchCV(model, param_grid, cv=2)"
   ]
  },
  {
   "cell_type": "code",
   "execution_count": 178,
   "metadata": {},
   "outputs": [
    {
     "name": "stdout",
     "output_type": "stream",
     "text": [
      "Compile model ...\n"
     ]
    }
   ],
   "source": [
    "import keras\n",
    "def create_network():\n",
    "    network = Sequential()\n",
    "    network.add(Dense(20, activation='relu', kernel_initializer='random_normal', input_dim=933813 ))\n",
    "    network.add(Dense(10, activation='relu', kernel_initializer='random_normal'))\n",
    "    network.add(Dense(5, activation='softmax'))\n",
    "\n",
    "    network.compile(loss='categorical_crossentropy', \n",
    "                    optimizer='adam', \n",
    "                    metrics=['accuracy']) \n",
    "    \n",
    "def build_model():\n",
    "     \n",
    "    model = Sequential()\n",
    "    model.add(Dense(25, input_dim=1500, activation='tanh'))\n",
    "    model.add(Dropout(0.8))\n",
    "\n",
    "\n",
    "    model.add(Dense(6, activation='softmax'))\n",
    "    model.compile(loss='categorical_crossentropy', optimizer='adam', metrics=['accuracy'])\n",
    "    model.summary()\n",
    "    return model\n",
    "print(\"Compile model ...\")\n",
    "callback = keras.callbacks.EarlyStopping(monitor='val_loss', patience=3)\n",
    "estimator = KerasClassifier(build_fn=build_model, epochs=70, batch_size=8,validation_data=(X_TEST,dummy_y_test),callbacks=[callback])"
   ]
  },
  {
   "cell_type": "code",
   "execution_count": 179,
   "metadata": {},
   "outputs": [],
   "source": [
    "from sklearn.preprocessing import OneHotEncoder"
   ]
  },
  {
   "cell_type": "code",
   "execution_count": 180,
   "metadata": {},
   "outputs": [],
   "source": [
    "Y_train_one_hot=OneHotEncoder().fit_transform(Y_train.reshape(-1,1))"
   ]
  },
  {
   "cell_type": "code",
   "execution_count": 181,
   "metadata": {},
   "outputs": [
    {
     "data": {
      "text/plain": [
       "<8171x6 sparse matrix of type '<class 'numpy.float64'>'\n",
       "\twith 8171 stored elements in Compressed Sparse Row format>"
      ]
     },
     "execution_count": 181,
     "metadata": {},
     "output_type": "execute_result"
    }
   ],
   "source": [
    "Y_train_one_hot"
   ]
  },
  {
   "cell_type": "code",
   "execution_count": 182,
   "metadata": {},
   "outputs": [],
   "source": [
    "# model.fit(c,Y_train_one_hot,epochs=5)"
   ]
  },
  {
   "cell_type": "code",
   "execution_count": 184,
   "metadata": {},
   "outputs": [
    {
     "name": "stdout",
     "output_type": "stream",
     "text": [
      "Model: \"sequential_30\"\n",
      "_________________________________________________________________\n",
      "Layer (type)                 Output Shape              Param #   \n",
      "=================================================================\n",
      "dense_68 (Dense)             (None, 25)                37525     \n",
      "_________________________________________________________________\n",
      "dropout_38 (Dropout)         (None, 25)                0         \n",
      "_________________________________________________________________\n",
      "dense_69 (Dense)             (None, 6)                 156       \n",
      "=================================================================\n",
      "Total params: 37,681\n",
      "Trainable params: 37,681\n",
      "Non-trainable params: 0\n",
      "_________________________________________________________________\n",
      "Epoch 1/70\n",
      "1022/1022 [==============================] - 2s 2ms/step - loss: 1.3431 - accuracy: 0.5742 - val_loss: 0.9034 - val_accuracy: 0.7248\n",
      "Epoch 2/70\n",
      "1022/1022 [==============================] - 2s 2ms/step - loss: 0.9332 - accuracy: 0.7129 - val_loss: 0.7584 - val_accuracy: 0.7619\n",
      "Epoch 3/70\n",
      "1022/1022 [==============================] - 2s 2ms/step - loss: 0.8068 - accuracy: 0.7461 - val_loss: 0.6849 - val_accuracy: 0.7799\n",
      "Epoch 4/70\n",
      "1022/1022 [==============================] - 2s 2ms/step - loss: 0.7461 - accuracy: 0.7586 - val_loss: 0.6470 - val_accuracy: 0.7893\n",
      "Epoch 5/70\n",
      "1022/1022 [==============================] - 2s 2ms/step - loss: 0.7184 - accuracy: 0.7672 - val_loss: 0.6256 - val_accuracy: 0.7922\n",
      "Epoch 6/70\n",
      "1022/1022 [==============================] - 2s 2ms/step - loss: 0.6610 - accuracy: 0.7846 - val_loss: 0.6161 - val_accuracy: 0.7933\n",
      "Epoch 7/70\n",
      "1022/1022 [==============================] - 2s 2ms/step - loss: 0.6448 - accuracy: 0.7874 - val_loss: 0.6177 - val_accuracy: 0.7945\n",
      "Epoch 8/70\n",
      "1022/1022 [==============================] - 2s 2ms/step - loss: 0.6091 - accuracy: 0.7952 - val_loss: 0.6108 - val_accuracy: 0.7965\n",
      "Epoch 9/70\n",
      "1022/1022 [==============================] - 2s 2ms/step - loss: 0.6180 - accuracy: 0.7888 - val_loss: 0.6058 - val_accuracy: 0.7979\n",
      "Epoch 10/70\n",
      "1022/1022 [==============================] - 2s 2ms/step - loss: 0.5803 - accuracy: 0.8065 - val_loss: 0.6028 - val_accuracy: 0.8013\n",
      "Epoch 11/70\n",
      "1022/1022 [==============================] - 2s 2ms/step - loss: 0.5852 - accuracy: 0.8038 - val_loss: 0.6053 - val_accuracy: 0.7993\n",
      "Epoch 12/70\n",
      "1022/1022 [==============================] - 2s 2ms/step - loss: 0.5746 - accuracy: 0.8028 - val_loss: 0.6108 - val_accuracy: 0.7982\n",
      "Epoch 13/70\n",
      "1022/1022 [==============================] - 2s 2ms/step - loss: 0.5727 - accuracy: 0.8037 - val_loss: 0.6142 - val_accuracy: 0.8005\n"
     ]
    }
   ],
   "source": [
    "hist=estimator.fit(X_TRAIN,dummy_y_train)"
   ]
  },
  {
   "cell_type": "code",
   "execution_count": 185,
   "metadata": {},
   "outputs": [
    {
     "name": "stderr",
     "output_type": "stream",
     "text": [
      "C:\\Users\\khaled.15\\AppData\\Roaming\\Python\\Python37\\site-packages\\tensorflow\\python\\keras\\engine\\sequential.py:450: UserWarning: `model.predict_classes()` is deprecated and will be removed after 2021-01-01. Please use instead:* `np.argmax(model.predict(x), axis=-1)`,   if your model does multi-class classification   (e.g. if it uses a `softmax` last-layer activation).* `(model.predict(x) > 0.5).astype(\"int32\")`,   if your model does binary classification   (e.g. if it uses a `sigmoid` last-layer activation).\n",
      "  warnings.warn('`model.predict_classes()` is deprecated and '\n"
     ]
    },
    {
     "name": "stdout",
     "output_type": "stream",
     "text": [
      "train 0.8675804675070371\n",
      "test 0.8004567513559806\n"
     ]
    },
    {
     "data": {
      "text/plain": [
       "[<matplotlib.lines.Line2D at 0x192daa48408>]"
      ]
     },
     "execution_count": 185,
     "metadata": {},
     "output_type": "execute_result"
    },
    {
     "data": {
      "image/png": "[encoded data removed]",
      "text/plain": [
       "<Figure size 432x288 with 1 Axes>"
      ]
     },
     "metadata": {
      "needs_background": "light"
     },
     "output_type": "display_data"
    }
   ],
   "source": [
    "predict_train=estimator.predict(X_TRAIN)\n",
    "predict_test=estimator.predict(X_TEST)\n",
    "print(\"train\",metrics.accuracy_score(predict_train,Y_train))\n",
    "print(\"test\",metrics.accuracy_score(predict_test,y_test))\n",
    "plt.plot(hist.history['accuracy'],color=\"red\")\n",
    "plt.plot(hist.history['val_accuracy'],color=\"orange\")\n"
   ]
  },
  {
   "cell_type": "code",
   "execution_count": null,
   "metadata": {},
   "outputs": [],
   "source": [
    "# import pickle\n",
    "# with open(\"neural_network_80.pickle\",\"wb\") as file:\n",
    "#     pickle.dump(estimator,file)"
   ]
  },
  {
   "cell_type": "code",
   "execution_count": null,
   "metadata": {},
   "outputs": [],
   "source": [
    "json_model = estimator.model.to_json()\n",
    "open('model_architecture.json', 'w').write(json_model)\n",
    "# saving weights\n",
    "estimator.model.save_weights('model_weights.h5', overwrite=True)\n",
    "estimator.model.save_weights('model_weights.h5', overwrite=True)"
   ]
  },
  {
   "cell_type": "code",
   "execution_count": null,
   "metadata": {},
   "outputs": [],
   "source": [
    "# loading model\n",
    "from keras.models import model_from_json\n",
    "\n",
    "model = model_from_json(open('model_architecture.json').read())\n",
    "model.load_weights('model_weights.h5')\n",
    "\n",
    "# dont forget to compile your model\n",
    "model.compile(loss='categorical_crossentropy', optimizer='adam', metrics=['accuracy'])\n",
    "model.summary()"
   ]
  },
  {
   "cell_type": "code",
   "execution_count": null,
   "metadata": {},
   "outputs": [],
   "source": [
    "# keras.models.save_model(\"neural_network_80\",estimator)"
   ]
  },
  {
   "cell_type": "code",
   "execution_count": 13,
   "metadata": {},
   "outputs": [],
   "source": [
    "from keras.wrappers.scikit_learn import KerasClassifier\n"
   ]
  },
  {
   "cell_type": "code",
   "execution_count": null,
   "metadata": {},
   "outputs": [],
   "source": []
  },
  {
   "cell_type": "code",
   "execution_count": 40,
   "metadata": {},
   "outputs": [],
   "source": [
    "classifier = KerasClassifier(build_fn=create_network, \n",
    "                                 epochs=5, \n",
    "                                 batch_size=100, \n",
    "                                 verbose=0)"
   ]
  },
  {
   "cell_type": "code",
   "execution_count": 139,
   "metadata": {},
   "outputs": [],
   "source": [
    "tfidf=TfidfVectorizer(analyzer='word', token_pattern=r'\\w{1,}',ngram_range=(1,3), max_features=1500)"
   ]
  },
  {
   "cell_type": "code",
   "execution_count": 140,
   "metadata": {},
   "outputs": [],
   "source": [
    "X_TRAIN=tfidf.fit_transform(X_train).astype(\"float16\")\n",
    "X_TEST=tfidf.transform(x_test).astype(\"float16\")\n"
   ]
  },
  {
   "cell_type": "code",
   "execution_count": 141,
   "metadata": {},
   "outputs": [],
   "source": [
    "X_TEST_REAL=tfidf.transform(X_test_real).astype(\"float16\")"
   ]
  },
  {
   "cell_type": "code",
   "execution_count": 124,
   "metadata": {},
   "outputs": [
    {
     "data": {
      "text/plain": [
       "<8171x3000 sparse matrix of type '<class 'numpy.float16'>'\n",
       "\twith 381301 stored elements in Compressed Sparse Row format>"
      ]
     },
     "execution_count": 124,
     "metadata": {},
     "output_type": "execute_result"
    }
   ],
   "source": [
    "X_TRAIN"
   ]
  },
  {
   "cell_type": "code",
   "execution_count": 99,
   "metadata": {},
   "outputs": [
    {
     "data": {
      "text/plain": [
       "(8171, 6)"
      ]
     },
     "execution_count": 99,
     "metadata": {},
     "output_type": "execute_result"
    }
   ],
   "source": [
    "Y_train_one_hot.shape"
   ]
  },
  {
   "cell_type": "code",
   "execution_count": 19,
   "metadata": {},
   "outputs": [],
   "source": [
    "from keras.utils import np_utils\n",
    "dummy_y_train = np_utils.to_categorical(Y_train)\n",
    "dummy_y_test=np_utils.to_categorical(y_test)\n",
    "dummy_y_test_real=np_utils.to_categorical(Y_test_real)"
   ]
  },
  {
   "cell_type": "code",
   "execution_count": null,
   "metadata": {},
   "outputs": [],
   "source": []
  },
  {
   "cell_type": "code",
   "execution_count": 91,
   "metadata": {},
   "outputs": [
    {
     "data": {
      "text/plain": [
       "(8171, 64404)"
      ]
     },
     "execution_count": 91,
     "metadata": {},
     "output_type": "execute_result"
    }
   ],
   "source": [
    "c.shape"
   ]
  },
  {
   "cell_type": "code",
   "execution_count": null,
   "metadata": {},
   "outputs": [],
   "source": [
    "X_TEST="
   ]
  },
  {
   "cell_type": "code",
   "execution_count": 102,
   "metadata": {},
   "outputs": [],
   "source": [
    "# model.fit(c,Y_train)"
   ]
  },
  {
   "cell_type": "code",
   "execution_count": 120,
   "metadata": {},
   "outputs": [
    {
     "data": {
      "text/plain": [
       "array([0, 1, 5, ..., 2, 5, 5])"
      ]
     },
     "execution_count": 120,
     "metadata": {},
     "output_type": "execute_result"
    }
   ],
   "source": [
    "predict_train"
   ]
  },
  {
   "cell_type": "code",
   "execution_count": 103,
   "metadata": {},
   "outputs": [],
   "source": [
    "# XX=TruncatedSVD(n_components=1000, n_iter=100, random_state=42).fit_transform(X)"
   ]
  },
  {
   "cell_type": "code",
   "execution_count": 406,
   "metadata": {},
   "outputs": [
    {
     "name": "stderr",
     "output_type": "stream",
     "text": [
      "C:\\Users\\khaled.15\\AppData\\Roaming\\Python\\Python37\\site-packages\\tensorflow\\python\\keras\\engine\\sequential.py:450: UserWarning: `model.predict_classes()` is deprecated and will be removed after 2021-01-01. Please use instead:* `np.argmax(model.predict(x), axis=-1)`,   if your model does multi-class classification   (e.g. if it uses a `softmax` last-layer activation).* `(model.predict(x) > 0.5).astype(\"int32\")`,   if your model does binary classification   (e.g. if it uses a `sigmoid` last-layer activation).\n",
      "  warnings.warn('`model.predict_classes()` is deprecated and '\n"
     ]
    },
    {
     "name": "stdout",
     "output_type": "stream",
     "text": [
      "train 0.8508138538734549\n",
      "test 0.8007422209534685\n"
     ]
    }
   ],
   "source": [
    "predict_train=estimator.predict(X_TRAIN)\n",
    "predict_test=estimator.predict(X_TEST)\n",
    "print(\"train\",metrics.accuracy_score(predict_train,Y_train))\n",
    "print(\"test\",metrics.accuracy_score(predict_test,y_test))"
   ]
  },
  {
   "cell_type": "code",
   "execution_count": 407,
   "metadata": {},
   "outputs": [
    {
     "name": "stderr",
     "output_type": "stream",
     "text": [
      "C:\\Users\\khaled.15\\AppData\\Roaming\\Python\\Python37\\site-packages\\tensorflow\\python\\keras\\engine\\sequential.py:450: UserWarning: `model.predict_classes()` is deprecated and will be removed after 2021-01-01. Please use instead:* `np.argmax(model.predict(x), axis=-1)`,   if your model does multi-class classification   (e.g. if it uses a `softmax` last-layer activation).* `(model.predict(x) > 0.5).astype(\"int32\")`,   if your model does binary classification   (e.g. if it uses a `sigmoid` last-layer activation).\n",
      "  warnings.warn('`model.predict_classes()` is deprecated and '\n"
     ]
    },
    {
     "name": "stdout",
     "output_type": "stream",
     "text": [
      "test 0.8080767692922831\n"
     ]
    }
   ],
   "source": [
    "predict_test_real=estimator.predict(X_TEST_REAL)\n",
    "# print(\"train\",metrics.accuracy_score(predict_train,Y_train))\n",
    "print(\"test\",metrics.accuracy_score(predict_test_real,Y_test_real))"
   ]
  },
  {
   "cell_type": "code",
   "execution_count": 408,
   "metadata": {},
   "outputs": [
    {
     "name": "stdout",
     "output_type": "stream",
     "text": [
      "              precision    recall  f1-score   support\n",
      "\n",
      "           0       0.70      0.82      0.75       658\n",
      "           1       0.58      0.83      0.68       298\n",
      "           2       0.43      0.85      0.57       194\n",
      "           3       0.33      0.90      0.48        89\n",
      "           4       0.82      0.97      0.89       170\n",
      "           5       0.95      0.79      0.87      3593\n",
      "\n",
      "    accuracy                           0.81      5002\n",
      "   macro avg       0.64      0.86      0.71      5002\n",
      "weighted avg       0.86      0.81      0.82      5002\n",
      "\n"
     ]
    }
   ],
   "source": [
    "print(metrics.classification_report(predict_test_real, Y_test_real))"
   ]
  },
  {
   "cell_type": "code",
   "execution_count": 94,
   "metadata": {},
   "outputs": [],
   "source": [
    "from sklearn.model_selection import GridSearchCV\n",
    "param_grid = {'model__C': [1, 1.5, 2.0, 3.0, 5.0],\n",
    "              'model__gamma': [0.1, 0.3, 0.5, 0.7, 0.9], }\n",
    "# param_grid = {'model__C':[0.01,0.1,1.0,10]\n",
    "# }\n",
    "\n",
    "grid = GridSearchCV(model, param_grid, cv = 5)"
   ]
  },
  {
   "cell_type": "code",
   "execution_count": 95,
   "metadata": {},
   "outputs": [
    {
     "data": {
      "text/plain": [
       "GridSearchCV(cv=5,\n",
       "             estimator=Pipeline(steps=[('preprocess',\n",
       "                                        TfidfVectorizer(max_features=2000,\n",
       "                                                        ngram_range=(1, 3),\n",
       "                                                        token_pattern='\\\\w{1,}')),\n",
       "                                       ('model',\n",
       "                                        SVC(class_weight={0: 0.8438410142196333,\n",
       "                                                          1: 0.9037176631831421,\n",
       "                                                          2: 0.9309576837416481,\n",
       "                                                          3: 0.9495459996573582,\n",
       "                                                          4: 0.9631660099366113,\n",
       "                                                          5: 0.40877162926160704}))]),\n",
       "             param_grid={'model__C': [1, 1.5, 2.0, 3.0, 5.0],\n",
       "                         'model__gamma': [0.1, 0.3, 0.5, 0.7, 0.9]})"
      ]
     },
     "execution_count": 95,
     "metadata": {},
     "output_type": "execute_result"
    }
   ],
   "source": [
    "grid.fit(X_train,Y_train)"
   ]
  },
  {
   "cell_type": "code",
   "execution_count": 98,
   "metadata": {},
   "outputs": [
    {
     "data": {
      "text/plain": [
       "{'model__C': 3.0, 'model__gamma': 0.9}"
      ]
     },
     "execution_count": 98,
     "metadata": {},
     "output_type": "execute_result"
    }
   ],
   "source": [
    "grid.best_params_"
   ]
  },
  {
   "cell_type": "code",
   "execution_count": 40,
   "metadata": {},
   "outputs": [
    {
     "data": {
      "text/plain": [
       "{'model__C': 0.1}"
      ]
     },
     "execution_count": 40,
     "metadata": {},
     "output_type": "execute_result"
    }
   ],
   "source": [
    "# grid.best_params_"
   ]
  },
  {
   "cell_type": "code",
   "execution_count": 411,
   "metadata": {},
   "outputs": [],
   "source": [
    "# from sklearn.model_selection import cross_val_score\n",
    "\n",
    "# scores = cross_val_score(estimator, X_train, Y_train, cv=5)"
   ]
  },
  {
   "cell_type": "code",
   "execution_count": 18,
   "metadata": {},
   "outputs": [
    {
     "data": {
      "text/plain": [
       "array([0.81590214, 0.80171359, 0.8121175 , 0.80905753, 0.79130967])"
      ]
     },
     "execution_count": 18,
     "metadata": {},
     "output_type": "execute_result"
    }
   ],
   "source": [
    "scores"
   ]
  },
  {
   "cell_type": "code",
   "execution_count": 138,
   "metadata": {},
   "outputs": [],
   "source": [
    "import pickle\n",
    "with open(\"SVM_80.pickle\",\"wb\") as f:\n",
    "    pickle.dump(model,f)"
   ]
  },
  {
   "cell_type": "code",
   "execution_count": 21,
   "metadata": {},
   "outputs": [],
   "source": [
    "import pickle\n",
    "with open(\"Label_encoder_for_svm.pickle\",\"wb\") as f:\n",
    "    pickle.dump(label_encoder,f)"
   ]
  },
  {
   "cell_type": "code",
   "execution_count": null,
   "metadata": {},
   "outputs": [],
   "source": []
  }
 ],
 "metadata": {
  "kernelspec": {
   "display_name": "Python 3",
   "language": "python",
   "name": "python3"
  },
  "language_info": {
   "codemirror_mode": {
    "name": "ipython",
    "version": 3
   },
   "file_extension": ".py",
   "mimetype": "text/x-python",
   "name": "python",
   "nbconvert_exporter": "python",
   "pygments_lexer": "ipython3",
   "version": "3.7.10"
  }
 },
 "nbformat": 4,
 "nbformat_minor": 4
}
