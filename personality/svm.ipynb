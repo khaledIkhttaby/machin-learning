{
 "cells": [
  {
   "cell_type": "code",
   "execution_count": 3,
   "metadata": {},
   "outputs": [],
   "source": [
    "import pandas as pd \n",
    "import numpy as np\n",
    "import seaborn as sns \n",
    "import matplotlib.pyplot as plt\n",
    "from sklearn.model_selection import train_test_split\n",
    "import xgboost\n",
    "from sklearn.ensemble import RandomForestClassifier\n",
    "\n",
    "from sklearn.pipeline import Pipeline\n",
    "from sklearn.svm import SVC\n",
    "from sklearn.linear_model import LogisticRegression\n",
    "from sklearn import metrics\n",
    "from sklearn.preprocessing import LabelEncoder"
   ]
  },
  {
   "cell_type": "code",
   "execution_count": 4,
   "metadata": {},
   "outputs": [],
   "source": [
    "data=pd.read_csv(\"data_train.csv\",names=[\"label\",\"sentenc\"])\n",
    "data\n",
    "X=data.sentenc.values\n",
    "Y=data.label.values\n",
    "label_encoder=LabelEncoder()\n",
    "Y=label_encoder.fit_transform(Y)"
   ]
  },
  {
   "cell_type": "code",
   "execution_count": 5,
   "metadata": {},
   "outputs": [
    {
     "data": {
      "text/html": [
       "<div>\n",
       "<style scoped>\n",
       "    .dataframe tbody tr th:only-of-type {\n",
       "        vertical-align: middle;\n",
       "    }\n",
       "\n",
       "    .dataframe tbody tr th {\n",
       "        vertical-align: top;\n",
       "    }\n",
       "\n",
       "    .dataframe thead th {\n",
       "        text-align: right;\n",
       "    }\n",
       "</style>\n",
       "<table border=\"1\" class=\"dataframe\">\n",
       "  <thead>\n",
       "    <tr style=\"text-align: right;\">\n",
       "      <th></th>\n",
       "      <th>label</th>\n",
       "      <th>sentenc</th>\n",
       "    </tr>\n",
       "  </thead>\n",
       "  <tbody>\n",
       "    <tr>\n",
       "      <th>0</th>\n",
       "      <td>__label__Statement</td>\n",
       "      <td>توطين زراعه الزعتر وتربيه النحل مشاريع دعم ا...</td>\n",
       "    </tr>\n",
       "    <tr>\n",
       "      <th>1</th>\n",
       "      <td>__label__Statement</td>\n",
       "      <td>حددت وزاره الصحه الاجراءات الوقائيه والضوابط...</td>\n",
       "    </tr>\n",
       "    <tr>\n",
       "      <th>2</th>\n",
       "      <td>__label__Activity</td>\n",
       "      <td>قسم شرطه القدم يلقي القبض عصابه سرقه وسلب مح...</td>\n",
       "    </tr>\n",
       "    <tr>\n",
       "      <th>3</th>\n",
       "      <td>__label__Group_Meeting</td>\n",
       "      <td>مجلس الشعب الوكاله العربيه السوريه للانباء س...</td>\n",
       "    </tr>\n",
       "    <tr>\n",
       "      <th>4</th>\n",
       "      <td>__label__Decision</td>\n",
       "      <td>الرئيس الاسد يصدر مرسوما يقضي بتعديل الحكومه...</td>\n",
       "    </tr>\n",
       "    <tr>\n",
       "      <th>...</th>\n",
       "      <td>...</td>\n",
       "      <td>...</td>\n",
       "    </tr>\n",
       "    <tr>\n",
       "      <th>4997</th>\n",
       "      <td>__label__Statement</td>\n",
       "      <td>التقى الدكتور عبد الله الغربي وزير التجاره ا...</td>\n",
       "    </tr>\n",
       "    <tr>\n",
       "      <th>4998</th>\n",
       "      <td>__label__Public_opinion</td>\n",
       "      <td>سوريه تفتخر منح سوريه بشار الاسد</td>\n",
       "    </tr>\n",
       "    <tr>\n",
       "      <th>4999</th>\n",
       "      <td>__label__Statement</td>\n",
       "      <td>الرئيس الاسد يستقبل المحافظين بحضور رئيس مجل...</td>\n",
       "    </tr>\n",
       "    <tr>\n",
       "      <th>5000</th>\n",
       "      <td>__label__Statement</td>\n",
       "      <td>طبيب طالي مخضرم لا هام الروس التاجي حذر طبيب...</td>\n",
       "    </tr>\n",
       "    <tr>\n",
       "      <th>5001</th>\n",
       "      <td>__label__Statement</td>\n",
       "      <td>الغربي يؤكد ضروره انطلاقه معرض الباسل للابدا...</td>\n",
       "    </tr>\n",
       "  </tbody>\n",
       "</table>\n",
       "<p>5002 rows × 2 columns</p>\n",
       "</div>"
      ],
      "text/plain": [
       "                        label  \\\n",
       "0          __label__Statement   \n",
       "1          __label__Statement   \n",
       "2           __label__Activity   \n",
       "3      __label__Group_Meeting   \n",
       "4           __label__Decision   \n",
       "...                       ...   \n",
       "4997       __label__Statement   \n",
       "4998  __label__Public_opinion   \n",
       "4999       __label__Statement   \n",
       "5000       __label__Statement   \n",
       "5001       __label__Statement   \n",
       "\n",
       "                                                sentenc  \n",
       "0       توطين زراعه الزعتر وتربيه النحل مشاريع دعم ا...  \n",
       "1       حددت وزاره الصحه الاجراءات الوقائيه والضوابط...  \n",
       "2       قسم شرطه القدم يلقي القبض عصابه سرقه وسلب مح...  \n",
       "3       مجلس الشعب الوكاله العربيه السوريه للانباء س...  \n",
       "4       الرئيس الاسد يصدر مرسوما يقضي بتعديل الحكومه...  \n",
       "...                                                 ...  \n",
       "4997    التقى الدكتور عبد الله الغربي وزير التجاره ا...  \n",
       "4998                   سوريه تفتخر منح سوريه بشار الاسد  \n",
       "4999    الرئيس الاسد يستقبل المحافظين بحضور رئيس مجل...  \n",
       "5000    طبيب طالي مخضرم لا هام الروس التاجي حذر طبيب...  \n",
       "5001    الغربي يؤكد ضروره انطلاقه معرض الباسل للابدا...  \n",
       "\n",
       "[5002 rows x 2 columns]"
      ]
     },
     "execution_count": 5,
     "metadata": {},
     "output_type": "execute_result"
    }
   ],
   "source": [
    "data_test=pd.read_csv(\"data_test.csv\",names=[\"label\",\"sentenc\"])\n",
    "data_test"
   ]
  },
  {
   "cell_type": "code",
   "execution_count": 6,
   "metadata": {},
   "outputs": [
    {
     "data": {
      "text/plain": [
       "<matplotlib.axes._subplots.AxesSubplot at 0x16c251b3988>"
      ]
     },
     "execution_count": 6,
     "metadata": {},
     "output_type": "execute_result"
    },
    {
     "data": {
      "image/png": "[encoded data removed]",
      "text/plain": [
       "<Figure size 1080x360 with 1 Axes>"
      ]
     },
     "metadata": {
      "needs_background": "light"
     },
     "output_type": "display_data"
    }
   ],
   "source": [
    "plt.figure(figsize=(15,5))\n",
    "sns.countplot(x='label',data=data_test)"
   ]
  },
  {
   "cell_type": "code",
   "execution_count": 7,
   "metadata": {},
   "outputs": [
    {
     "data": {
      "text/plain": [
       "__label__Statement         0.591228\n",
       "__label__Activity          0.156159\n",
       "__label__Decision          0.096282\n",
       "__label__Group_Meeting     0.069042\n",
       "__label__Public_opinion    0.050454\n",
       "__label__Single_Meeting    0.036834\n",
       "Name: label, dtype: float64"
      ]
     },
     "execution_count": 7,
     "metadata": {},
     "output_type": "execute_result"
    }
   ],
   "source": [
    "data.label.value_counts()/data.label.value_counts().sum()"
   ]
  },
  {
   "cell_type": "code",
   "execution_count": null,
   "metadata": {},
   "outputs": [],
   "source": []
  },
  {
   "cell_type": "code",
   "execution_count": 8,
   "metadata": {},
   "outputs": [
    {
     "data": {
      "text/plain": [
       "<matplotlib.axes._subplots.AxesSubplot at 0x16c258d3508>"
      ]
     },
     "execution_count": 8,
     "metadata": {},
     "output_type": "execute_result"
    },
    {
     "data": {
      "image/png": "[encoded data removed]",
      "text/plain": [
       "<Figure size 1080x360 with 1 Axes>"
      ]
     },
     "metadata": {
      "needs_background": "light"
     },
     "output_type": "display_data"
    }
   ],
   "source": [
    "plt.figure(figsize=(15,5))\n",
    "sns.countplot(x='label',data=data)"
   ]
  },
  {
   "cell_type": "code",
   "execution_count": 9,
   "metadata": {},
   "outputs": [],
   "source": [
    "X_train,x_test,Y_train,y_test=train_test_split(X,Y,test_size=30,random_state=50)"
   ]
  },
  {
   "cell_type": "code",
   "execution_count": 10,
   "metadata": {},
   "outputs": [],
   "source": [
    "from sklearn.feature_extraction.text import TfidfVectorizer"
   ]
  },
  {
   "cell_type": "code",
   "execution_count": null,
   "metadata": {},
   "outputs": [],
   "source": []
  },
  {
   "cell_type": "code",
   "execution_count": 11,
   "metadata": {},
   "outputs": [],
   "source": [
    "model=Pipeline([(\"preprocess\",TfidfVectorizer(analyzer='char', token_pattern=r'\\w{1,}',ngram_range=(5,8), max_features=5000)),(\"model\",SVC(kernel=\"rbf\"))])"
   ]
  },
  {
   "cell_type": "code",
   "execution_count": 12,
   "metadata": {},
   "outputs": [],
   "source": [
    "\n",
    "from sklearn.model_selection import GridSearchCV\n",
    "param_grid = {'model__C': [1e3, 5e3, 1e4, 5e4, 1e5],\n",
    "              'model__gamma': [0.0001, 0.0005, 0.001, 0.005, 0.01, 0.1], }\n",
    "# param_grid = {'model__C':[0.01,0.1,1.0,10]\n",
    "# }\n",
    "\n",
    "grid = GridSearchCV(model, param_grid, cv=7)"
   ]
  },
  {
   "cell_type": "code",
   "execution_count": 14,
   "metadata": {},
   "outputs": [],
   "source": [
    "# grid.estimator.get_params().keys()"
   ]
  },
  {
   "cell_type": "code",
   "execution_count": null,
   "metadata": {},
   "outputs": [],
   "source": [
    "grid.fit(X_train,Y_train)"
   ]
  },
  {
   "cell_type": "code",
   "execution_count": 91,
   "metadata": {},
   "outputs": [
    {
     "name": "stdout",
     "output_type": "stream",
     "text": [
      "train 0.8394881484026108\n",
      "test 0.8666666666666667\n"
     ]
    }
   ],
   "source": [
    "predict_train=model.predict(X_train)\n",
    "predict_test=model.predict(x_test)\n",
    "print(\"train\",metrics.accuracy_score(predict_train,Y_train))\n",
    "print(\"test\",metrics.accuracy_score(predict_test,y_test))"
   ]
  },
  {
   "cell_type": "code",
   "execution_count": 93,
   "metadata": {},
   "outputs": [
    {
     "name": "stdout",
     "output_type": "stream",
     "text": [
      "dummy_score 0.6666666666666666\n"
     ]
    }
   ],
   "source": [
    "from sklearn.dummy import DummyClassifier\n",
    "\n",
    "# Negative class (0) is most frequent\n",
    "dummy_majority = DummyClassifier(strategy = 'most_frequent').fit(X_train, Y_train)\n",
    "# Therefore the dummy 'most_frequent' classifier always predicts class 0\n",
    "y_dummy_predictions = dummy_majority.predict(x_test)\n",
    "print(\"dummy_score\",metrics.accuracy_score(y_test,y_dummy_predictions))"
   ]
  },
  {
   "cell_type": "code",
   "execution_count": 96,
   "metadata": {},
   "outputs": [
    {
     "data": {
      "text/plain": [
       "<sklearn.metrics._plot.confusion_matrix.ConfusionMatrixDisplay at 0x22c6d377888>"
      ]
     },
     "execution_count": 96,
     "metadata": {},
     "output_type": "execute_result"
    },
    {
     "data": {
      "image/png": "[encoded data removed]",
      "text/plain": [
       "<Figure size 432x288 with 2 Axes>"
      ]
     },
     "metadata": {
      "needs_background": "light"
     },
     "output_type": "display_data"
    }
   ],
   "source": [
    "metrics.plot_confusion_matrix(model,x_test,y_test)"
   ]
  },
  {
   "cell_type": "code",
   "execution_count": 98,
   "metadata": {},
   "outputs": [],
   "source": [
    "predict=model.predict(x_test)"
   ]
  },
  {
   "cell_type": "code",
   "execution_count": 99,
   "metadata": {},
   "outputs": [
    {
     "data": {
      "text/plain": [
       "0.8666666666666667"
      ]
     },
     "execution_count": 99,
     "metadata": {},
     "output_type": "execute_result"
    }
   ],
   "source": [
    "metrics.accuracy_score(predicted,y_test)"
   ]
  },
  {
   "cell_type": "code",
   "execution_count": 100,
   "metadata": {},
   "outputs": [
    {
     "name": "stdout",
     "output_type": "stream",
     "text": [
      "              precision    recall  f1-score   support\n",
      "\n",
      "           0       1.00      0.60      0.75         5\n",
      "           1       1.00      0.50      0.67         2\n",
      "           2       1.00      0.50      0.67         2\n",
      "           3       1.00      1.00      1.00         1\n",
      "           5       0.83      1.00      0.91        20\n",
      "\n",
      "    accuracy                           0.87        30\n",
      "   macro avg       0.97      0.72      0.80        30\n",
      "weighted avg       0.89      0.87      0.85        30\n",
      "\n"
     ]
    }
   ],
   "source": [
    "print(metrics.classification_report(y_test, predicted))"
   ]
  },
  {
   "cell_type": "code",
   "execution_count": 68,
   "metadata": {},
   "outputs": [
    {
     "data": {
      "text/plain": [
       "5    15\n",
       "1     2\n",
       "0     1\n",
       "2     1\n",
       "3     1\n",
       "dtype: int64"
      ]
     },
     "execution_count": 68,
     "metadata": {},
     "output_type": "execute_result"
    }
   ],
   "source": [
    "pd.Series(y_test).value_counts()"
   ]
  },
  {
   "cell_type": "code",
   "execution_count": null,
   "metadata": {},
   "outputs": [],
   "source": []
  }
 ],
 "metadata": {
  "kernelspec": {
   "display_name": "Python 3",
   "language": "python",
   "name": "python3"
  },
  "language_info": {
   "codemirror_mode": {
    "name": "ipython",
    "version": 3
   },
   "file_extension": ".py",
   "mimetype": "text/x-python",
   "name": "python",
   "nbconvert_exporter": "python",
   "pygments_lexer": "ipython3",
   "version": "3.7.10"
  }
 },
 "nbformat": 4,
 "nbformat_minor": 4
}
